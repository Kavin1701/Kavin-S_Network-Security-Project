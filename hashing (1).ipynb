{
  "nbformat": 4,
  "nbformat_minor": 0,
  "metadata": {
    "colab": {
      "name": "hashing.ipynb",
      "provenance": [],
      "collapsed_sections": []
    },
    "kernelspec": {
      "name": "python3",
      "display_name": "Python 3"
    },
    "language_info": {
      "name": "python"
    }
  },
  "cells": [
    {
      "cell_type": "code",
      "metadata": {
        "colab": {
          "base_uri": "https://localhost:8080/"
        },
        "id": "2VvU-UE2hOql",
        "outputId": "e7dde3ea-5bca-4869-e194-ab421a9051af"
      },
      "source": [
        "import hashlib\n",
        "a= hashlib.md5(b'HellooHaiii')\n",
        "print(a.hexdigest())"
      ],
      "execution_count": 2,
      "outputs": [
        {
          "output_type": "stream",
          "text": [
            "3ce7fe4c47aa0bd6adeca9fe2e458953\n"
          ],
          "name": "stdout"
        }
      ]
    },
    {
      "cell_type": "code",
      "metadata": {
        "colab": {
          "base_uri": "https://localhost:8080/"
        },
        "id": "0mMvohwxhZt-",
        "outputId": "eb2710cf-f077-49a7-9096-7cdf8c99ab0d"
      },
      "source": [
        "import hashlib\n",
        "x = hashlib.sha256(b'Hello')\n",
        "a= x.hexdigest()\n",
        "print(a)"
      ],
      "execution_count": 3,
      "outputs": [
        {
          "output_type": "stream",
          "text": [
            "185f8db32271fe25f561a6fc938b2e264306ec304eda518007d1764826381969\n"
          ],
          "name": "stdout"
        }
      ]
    }
  ]
}